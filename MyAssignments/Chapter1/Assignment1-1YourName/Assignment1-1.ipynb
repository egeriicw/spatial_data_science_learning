{
 "cells": [
  {
   "cell_type": "code",
   "execution_count": 13,
   "metadata": {},
   "outputs": [],
   "source": [
    "import geopandas as gpd\n",
    "import fiona\n",
    "import matplotlib"
   ]
  },
  {
   "cell_type": "code",
   "execution_count": 9,
   "metadata": {},
   "outputs": [
    {
     "data": {
      "text/plain": [
       "['COStreets2',\n",
       " 'COStreets1',\n",
       " 'HHWZIPCodes',\n",
       " 'PAPublicSchools',\n",
       " 'PACounties',\n",
       " 'CACounties',\n",
       " 'USCities_dtl',\n",
       " 'PATracts',\n",
       " 'PAZIP',\n",
       " 'PACities',\n",
       " 'USStates',\n",
       " 'USCities',\n",
       " 'CAOrangeCountyTracts',\n",
       " 'Congress111',\n",
       " 'MilitaryBnd',\n",
       " 'MilitaryPt',\n",
       " 'USCounties',\n",
       " 'COCounties',\n",
       " 'COUrban1',\n",
       " 'COUrban2',\n",
       " 'COWater1',\n",
       " 'COWater2',\n",
       " 'COStreets']"
      ]
     },
     "execution_count": 9,
     "metadata": {},
     "output_type": "execute_result"
    }
   ],
   "source": [
    "gdb_file = \"../../../Data/UnitedStates.gdb\"\n",
    "fiona.listlayers(gdb_file)"
   ]
  },
  {
   "cell_type": "code",
   "execution_count": 15,
   "metadata": {},
   "outputs": [
    {
     "data": {
      "text/plain": [
       "<matplotlib.axes._subplots.AxesSubplot at 0x7f9e88c03890>"
      ]
     },
     "execution_count": 15,
     "metadata": {},
     "output_type": "execute_result"
    },
    {
     "data": {
      "image/png": "[encoded data removed]",
      "text/plain": [
       "<Figure size 432x288 with 1 Axes>"
      ]
     },
     "metadata": {
      "needs_background": "light"
     },
     "output_type": "display_data"
    }
   ],
   "source": [
    "usstates = gpd.read_file(gdb_file, driver=\"FileGDB\", layer='USStates')\n",
    "usstates.plot()"
   ]
  }
 ],
 "metadata": {
  "interpreter": {
   "hash": "9d2c582d8e4691c38fa45035156c06c0cd752c40e496a93cbac8ede9954937ea"
  },
  "kernelspec": {
   "display_name": "Python 3.7.7 64-bit (conda)",
   "language": "python",
   "name": "python3"
  },
  "language_info": {
   "codemirror_mode": {
    "name": "ipython",
    "version": 3
   },
   "file_extension": ".py",
   "mimetype": "text/x-python",
   "name": "python",
   "nbconvert_exporter": "python",
   "pygments_lexer": "ipython3",
   "version": "3.7.7"
  },
  "orig_nbformat": 4
 },
 "nbformat": 4,
 "nbformat_minor": 2
}
